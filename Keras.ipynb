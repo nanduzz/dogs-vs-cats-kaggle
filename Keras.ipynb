{
 "cells": [
  {
   "cell_type": "code",
   "execution_count": 1,
   "metadata": {},
   "outputs": [
    {
     "name": "stderr",
     "output_type": "stream",
     "text": [
      "C:\\Users\\Fernando\\Anaconda3\\lib\\site-packages\\h5py\\__init__.py:36: FutureWarning: Conversion of the second argument of issubdtype from `float` to `np.floating` is deprecated. In future, it will be treated as `np.float64 == np.dtype(float).type`.\n",
      "  from ._conv import register_converters as _register_converters\n"
     ]
    }
   ],
   "source": [
    "import cv2\n",
    "import numpy as np\n",
    "import os\n",
    "from random import shuffle\n",
    "\n",
    "import tensorflow as tf"
   ]
  },
  {
   "cell_type": "code",
   "execution_count": 2,
   "metadata": {},
   "outputs": [],
   "source": [
    "TRAIN_DIR = './train' \n",
    "TEST_DIR = './test'\n",
    "\n",
    "IMG_SIZE = 50\n",
    "LR = 1e-3\n",
    "\n",
    "MODEL_NAME = \"dogsvscats-{}-{}.model\".format(LR, '2conv-basic-new-bigger')\n",
    "TRAIN_DATA_FILE = 'sentdex.training.npy'\n",
    "TEST_DATA_FILE = 'sentdex.test.npy'"
   ]
  },
  {
   "cell_type": "code",
   "execution_count": 3,
   "metadata": {},
   "outputs": [],
   "source": [
    "def label_img(img):\n",
    "    word_label = img.split('.')[-3]\n",
    "    if word_label == 'cat' : return [1,0]\n",
    "    else : return [0,1]\n"
   ]
  },
  {
   "cell_type": "code",
   "execution_count": 4,
   "metadata": {},
   "outputs": [],
   "source": [
    "def create_train_data():\n",
    "    training_data = []\n",
    "    for img in os.listdir(TRAIN_DIR) :\n",
    "        label = label_img(img)\n",
    "        path = os.path.join(TRAIN_DIR,img)\n",
    "        img = cv2.imread(path, cv2.IMREAD_GRAYSCALE)\n",
    "        img = cv2.resize(img, (IMG_SIZE,IMG_SIZE))\n",
    "        training_data.append([np.array(img),np.array(label)])\n",
    "        \n",
    "    shuffle(training_data)\n",
    "    np.save(TRAIN_DATA_FILE, training_data)\n",
    "    return training_data"
   ]
  },
  {
   "cell_type": "code",
   "execution_count": 5,
   "metadata": {},
   "outputs": [],
   "source": [
    "def process_test_data():\n",
    "    testing_data = []\n",
    "    for img in os.listdir(TEST_DIR):\n",
    "        path = os.path.join(TEST_DIR,img)\n",
    "        img_num = img.split('.')[0]\n",
    "        img = cv2.imread(path, cv2.IMREAD_GRAYSCALE)\n",
    "        img = cv2.resize(img, (IMG_SIZE, IMG_SIZE))\n",
    "        testing_data.append([np.array(img), img_num])\n",
    "    shuffle(testing_data)\n",
    "    np.save(TEST_DATA_FILE, testing_data)\n",
    "    return testing_data\n"
   ]
  },
  {
   "cell_type": "code",
   "execution_count": 6,
   "metadata": {},
   "outputs": [],
   "source": [
    "#train_data = create_train_data()"
   ]
  },
  {
   "cell_type": "code",
   "execution_count": 7,
   "metadata": {},
   "outputs": [],
   "source": [
    "train_data = np.load(TRAIN_DATA_FILE)"
   ]
  },
  {
   "cell_type": "code",
   "execution_count": 8,
   "metadata": {},
   "outputs": [],
   "source": [
    "#def model_fn(features, labels, mode):\n",
    "def model_fn() :\n",
    "    \"\"\"Model function for CNN.\"\"\"\n",
    "    # Input Layer\n",
    "    \n",
    "    \n",
    "    model = tf.keras.Sequential()\n",
    "    \n",
    "    model.add(tf.keras.layers.Conv2D(32,5,activation='relu',input_shape=(IMG_SIZE,IMG_SIZE,1)))\n",
    "    #model.add(tf.keras.layers.MaxPool2D(5))\n",
    "    \n",
    "    model.add(tf.keras.layers.Conv2D(64,5,activation='relu'))\n",
    "    #model.add(tf.keras.layers.MaxPool2D(5))\n",
    "    \n",
    "    \n",
    "    model.add(tf.keras.layers.Conv2D(128,5,activation='relu'))\n",
    "    #model.add(tf.keras.layers.MaxPool2D(5))\n",
    "    \n",
    "    \n",
    "    model.add(tf.keras.layers.Conv2D(64,5,activation='relu'))\n",
    "    #model.add(tf.keras.layers.MaxPool2D(5))\n",
    "    \n",
    "    \n",
    "    model.add(tf.keras.layers.Conv2D(32,5,activation='relu'))\n",
    "    #model.add(tf.keras.layers.MaxPool2D(5))\n",
    "    \n",
    "    model.add(tf.keras.layers.Flatten())\n",
    "    \n",
    "    model.add(tf.keras.layers.Dense(1024, activation='relu'))\n",
    "    model.add(tf.keras.layers.Dropout(0.25))\n",
    "    \n",
    "    model.add(tf.keras.layers.Dense(2, activation='softmax'))\n",
    "    \n",
    "    \n",
    "    return model"
   ]
  },
  {
   "cell_type": "code",
   "execution_count": 9,
   "metadata": {},
   "outputs": [],
   "source": [
    "train = train_data[:-500]\n",
    "test = train_data[-500:]\n",
    "\n",
    "X = np.array([i[0] for i in train]).reshape(-1,IMG_SIZE,IMG_SIZE,1)\n",
    "Y = np.array([i[1] for i in train])\n",
    "\n",
    "test_x = np.array([i[0] for i in test]).reshape(-1,IMG_SIZE,IMG_SIZE,1)\n",
    "test_y = np.array([i[1] for i in test])\n"
   ]
  },
  {
   "cell_type": "code",
   "execution_count": 10,
   "metadata": {},
   "outputs": [],
   "source": [
    "model = model_fn()\n",
    "\n",
    "model.compile(\n",
    "    loss=tf.keras.losses.mean_squared_error,\n",
    "    optimizer=tf.keras.optimizers.Adadelta(LR),\n",
    "    metrics=['accuracy']\n",
    ")"
   ]
  },
  {
   "cell_type": "code",
   "execution_count": 18,
   "metadata": {
    "scrolled": false
   },
   "outputs": [
    {
     "name": "stdout",
     "output_type": "stream",
     "text": [
      "Train on 24500 samples, validate on 500 samples\n",
      "Epoch 1/10\n",
      "24500/24500 [==============================] - 510s 21ms/step - loss: 0.0863 - acc: 0.8990 - val_loss: 0.1903 - val_acc: 0.7280\n",
      "Epoch 2/10\n",
      "24500/24500 [==============================] - 510s 21ms/step - loss: 0.0832 - acc: 0.9012 - val_loss: 0.1928 - val_acc: 0.7180\n",
      "Epoch 3/10\n",
      "24500/24500 [==============================] - 508s 21ms/step - loss: 0.0786 - acc: 0.9091 - val_loss: 0.1921 - val_acc: 0.7320\n",
      "Epoch 4/10\n",
      "24500/24500 [==============================] - 515s 21ms/step - loss: 0.0755 - acc: 0.9136 - val_loss: 0.1896 - val_acc: 0.7440\n",
      "Epoch 5/10\n",
      "24500/24500 [==============================] - 509s 21ms/step - loss: 0.0716 - acc: 0.9192 - val_loss: 0.1925 - val_acc: 0.7320\n",
      "Epoch 6/10\n",
      "24500/24500 [==============================] - 510s 21ms/step - loss: 0.0679 - acc: 0.9247 - val_loss: 0.1912 - val_acc: 0.7280\n",
      "Epoch 7/10\n",
      "24500/24500 [==============================] - 510s 21ms/step - loss: 0.0645 - acc: 0.9301 - val_loss: 0.1871 - val_acc: 0.7280\n",
      "Epoch 8/10\n",
      "24500/24500 [==============================] - 509s 21ms/step - loss: 0.0617 - acc: 0.9349 - val_loss: 0.1901 - val_acc: 0.7220\n",
      "Epoch 9/10\n",
      "24500/24500 [==============================] - 510s 21ms/step - loss: 0.0586 - acc: 0.9391 - val_loss: 0.2008 - val_acc: 0.6980\n",
      "Epoch 10/10\n",
      "24500/24500 [==============================] - 509s 21ms/step - loss: 0.0558 - acc: 0.9435 - val_loss: 0.1943 - val_acc: 0.7180\n"
     ]
    },
    {
     "data": {
      "text/plain": [
       "<tensorflow.python.keras._impl.keras.callbacks.History at 0x1c28c129f98>"
      ]
     },
     "execution_count": 18,
     "metadata": {},
     "output_type": "execute_result"
    }
   ],
   "source": [
    "tensorboard = tf.keras.callbacks.TensorBoard(log_dir='./logs' + MODEL_NAME, histogram_freq=0,\n",
    "                          write_graph=True, write_images=False)\n",
    "\n",
    "model.fit(\n",
    "    X, #inputs\n",
    "    Y, #features\n",
    "    epochs=10, \n",
    "    batch_size=4,\n",
    "    validation_data=(test_x,test_y),\n",
    "    shuffle=True,\n",
    "    callbacks=[tensorboard]\n",
    ")"
   ]
  },
  {
   "cell_type": "code",
   "execution_count": 19,
   "metadata": {},
   "outputs": [],
   "source": [
    "model.save(MODEL_NAME)\n",
    "#model = tf.keras.models.load_model(MODEL_NAME)"
   ]
  },
  {
   "cell_type": "code",
   "execution_count": 28,
   "metadata": {},
   "outputs": [],
   "source": [
    "test_data_label = process_test_data()\n",
    "test_data = np.array([i[0] for i in test_data_label]).reshape(-1,IMG_SIZE,IMG_SIZE,1)\n",
    "test_label = [i[1] for i in test_data_label]"
   ]
  },
  {
   "cell_type": "code",
   "execution_count": 29,
   "metadata": {},
   "outputs": [],
   "source": [
    "prediction = model.predict(test_data)"
   ]
  },
  {
   "cell_type": "code",
   "execution_count": 36,
   "metadata": {},
   "outputs": [],
   "source": [
    "template = '{},{}\\n'\n",
    "submission_file = 'submission_file_keras-bigger.csv'\n",
    "with open(submission_file,'w') as f:\n",
    "    f.write('id,label\\n')\n",
    "            \n",
    "with open(submission_file,'a') as f:\n",
    "    for label, pred in zip(test_label, prediction) :\n",
    "        f.write(template.format(label, pred[1]))"
   ]
  },
  {
   "cell_type": "code",
   "execution_count": 14,
   "metadata": {},
   "outputs": [
    {
     "data": {
      "text/plain": [
       "<matplotlib.image.AxesImage at 0x1c1c12acb70>"
      ]
     },
     "execution_count": 14,
     "metadata": {},
     "output_type": "execute_result"
    }
   ],
   "source": [
    "import matplotlib.pyplot as plt\n",
    "\n",
    "#fig = plt.figure()\n",
    "im = test_x[0]\n",
    "plt.imshow(im.reshape(im.shape[0], im.shape[1]))"
   ]
  },
  {
   "cell_type": "code",
   "execution_count": 15,
   "metadata": {},
   "outputs": [],
   "source": [
    "eval_x = np.array([i[0] for i in test_data]).reshape(-1,IMG_SIZE,IMG_SIZE,1)\n",
    "test_y = np.array([i[1] for i in test])"
   ]
  }
 ],
 "metadata": {
  "kernelspec": {
   "display_name": "Python 3",
   "language": "python",
   "name": "python3"
  },
  "language_info": {
   "codemirror_mode": {
    "name": "ipython",
    "version": 3
   },
   "file_extension": ".py",
   "mimetype": "text/x-python",
   "name": "python",
   "nbconvert_exporter": "python",
   "pygments_lexer": "ipython3",
   "version": "3.6.5"
  }
 },
 "nbformat": 4,
 "nbformat_minor": 2
}
